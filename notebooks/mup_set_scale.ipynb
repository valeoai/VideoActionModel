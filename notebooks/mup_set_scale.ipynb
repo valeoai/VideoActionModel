{
 "cells": [
  {
   "cell_type": "code",
   "execution_count": null,
   "id": "787e1dab-31bc-4608-b514-4b56856b7b13",
   "metadata": {},
   "outputs": [],
   "source": [
    "%load_ext autoreload\n",
    "%autoreload 2"
   ]
  },
  {
   "cell_type": "code",
   "execution_count": null,
   "id": "5ffd6070-7e99-4599-a156-f8d8f3f05dd2",
   "metadata": {},
   "outputs": [],
   "source": []
  },
  {
   "cell_type": "code",
   "execution_count": 1,
   "id": "dbd88599-094e-4aa5-bcc7-0909cb6b600c",
   "metadata": {},
   "outputs": [],
   "source": [
    "from world_model.networks.mu_gpt2 import MuGPT2"
   ]
  },
  {
   "cell_type": "code",
   "execution_count": 6,
   "id": "f88f9ae5-edee-46c9-b13b-5f254986ad6c",
   "metadata": {},
   "outputs": [],
   "source": [
    "nb_layers = 12\n",
    "nb_timesteps = 16\n",
    "dim_per_head = 64"
   ]
  },
  {
   "cell_type": "code",
   "execution_count": null,
   "id": "0323e68a-5a04-40c0-a3af-737c31f3f271",
   "metadata": {},
   "outputs": [],
   "source": []
  },
  {
   "cell_type": "code",
   "execution_count": 7,
   "id": "38515671-ac53-4efb-af95-5087f13f966e",
   "metadata": {},
   "outputs": [
    {
     "name": "stdout",
     "output_type": "stream",
     "text": [
      "number of parameters: 2.53M\n",
      "number of parameters: 9.77M\n"
     ]
    }
   ],
   "source": [
    "width = 128\n",
    "base_model = MuGPT2(\n",
    "    embedding_dim=width,\n",
    "    nb_layers=nb_layers,\n",
    "    nb_heads=width//dim_per_head, \n",
    "    vocabulary_size=1024+50+80, \n",
    "    nb_timesteps=nb_timesteps, \n",
    "    nb_tokens_per_timestep=352, \n",
    "    dropout_rate=0.,\n",
    "    bias = True,   \n",
    "    output_mult = 1.0,\n",
    "    output_tied = True,\n",
    "    attn_mult = 1.0,\n",
    ")\n",
    "\n",
    "# The delta model is used to automatically detect \"infinite\" dimensions.\n",
    "# That is to say the weights matrices that changes/scales with hyper-params\n",
    "# and hence requires to be properly scaled.\n",
    "width = 256\n",
    "delta_model = MuGPT2(\n",
    "    embedding_dim=width,\n",
    "    nb_layers=nb_layers,\n",
    "    nb_heads=width//dim_per_head, \n",
    "    vocabulary_size=1024+50+80, \n",
    "    nb_timesteps=nb_timesteps, \n",
    "    nb_tokens_per_timestep=352, \n",
    "    dropout_rate=0.,\n",
    "    bias = True,   \n",
    "    output_mult = 1.0,\n",
    "    output_tied = True,\n",
    "    attn_mult = 1.0,\n",
    ")"
   ]
  },
  {
   "cell_type": "code",
   "execution_count": 9,
   "id": "71f9f124-3691-4539-9c11-64fe885b74fa",
   "metadata": {},
   "outputs": [],
   "source": [
    "import mup\n",
    "from mup import make_base_shapes"
   ]
  },
  {
   "cell_type": "code",
   "execution_count": 13,
   "id": "126ebbde-27b9-4768-a60c-6bfcf9be403e",
   "metadata": {},
   "outputs": [],
   "source": [
    "base_shapes = make_base_shapes(base_model, delta_model, savefile='./gpt2_12layers_16timesteps_basewidth128.bsh')"
   ]
  },
  {
   "cell_type": "code",
   "execution_count": 11,
   "id": "4b3170f4-76da-4d34-928f-8caa802ce33e",
   "metadata": {},
   "outputs": [
    {
     "data": {
      "text/plain": [
       "{'transformer.wie.weight': InfShape([InfDim(None, None), InfDim(128, None)]),\n",
       " 'transformer.wse.weight': InfShape([InfDim(None, None), InfDim(128, None)]),\n",
       " 'transformer.wte.weight': InfShape([InfDim(None, None), InfDim(128, None)]),\n",
       " 'transformer.h.0.ln_1.weight': InfShape([InfDim(128, None),]),\n",
       " 'transformer.h.0.ln_1.bias': InfShape([InfDim(128, None),]),\n",
       " 'transformer.h.0.attn.c_attn.weight': InfShape([InfDim(384, None), InfDim(128, None)]),\n",
       " 'transformer.h.0.attn.c_attn.bias': InfShape([InfDim(384, None),]),\n",
       " 'transformer.h.0.attn.c_proj.weight': InfShape([InfDim(128, None), InfDim(128, None)]),\n",
       " 'transformer.h.0.attn.c_proj.bias': InfShape([InfDim(128, None),]),\n",
       " 'transformer.h.0.ln_2.weight': InfShape([InfDim(128, None),]),\n",
       " 'transformer.h.0.ln_2.bias': InfShape([InfDim(128, None),]),\n",
       " 'transformer.h.0.mlp.c_fc.weight': InfShape([InfDim(512, None), InfDim(128, None)]),\n",
       " 'transformer.h.0.mlp.c_fc.bias': InfShape([InfDim(512, None),]),\n",
       " 'transformer.h.0.mlp.c_proj.weight': InfShape([InfDim(128, None), InfDim(512, None)]),\n",
       " 'transformer.h.0.mlp.c_proj.bias': InfShape([InfDim(128, None),]),\n",
       " 'transformer.h.1.ln_1.weight': InfShape([InfDim(128, None),]),\n",
       " 'transformer.h.1.ln_1.bias': InfShape([InfDim(128, None),]),\n",
       " 'transformer.h.1.attn.c_attn.weight': InfShape([InfDim(384, None), InfDim(128, None)]),\n",
       " 'transformer.h.1.attn.c_attn.bias': InfShape([InfDim(384, None),]),\n",
       " 'transformer.h.1.attn.c_proj.weight': InfShape([InfDim(128, None), InfDim(128, None)]),\n",
       " 'transformer.h.1.attn.c_proj.bias': InfShape([InfDim(128, None),]),\n",
       " 'transformer.h.1.ln_2.weight': InfShape([InfDim(128, None),]),\n",
       " 'transformer.h.1.ln_2.bias': InfShape([InfDim(128, None),]),\n",
       " 'transformer.h.1.mlp.c_fc.weight': InfShape([InfDim(512, None), InfDim(128, None)]),\n",
       " 'transformer.h.1.mlp.c_fc.bias': InfShape([InfDim(512, None),]),\n",
       " 'transformer.h.1.mlp.c_proj.weight': InfShape([InfDim(128, None), InfDim(512, None)]),\n",
       " 'transformer.h.1.mlp.c_proj.bias': InfShape([InfDim(128, None),]),\n",
       " 'transformer.h.2.ln_1.weight': InfShape([InfDim(128, None),]),\n",
       " 'transformer.h.2.ln_1.bias': InfShape([InfDim(128, None),]),\n",
       " 'transformer.h.2.attn.c_attn.weight': InfShape([InfDim(384, None), InfDim(128, None)]),\n",
       " 'transformer.h.2.attn.c_attn.bias': InfShape([InfDim(384, None),]),\n",
       " 'transformer.h.2.attn.c_proj.weight': InfShape([InfDim(128, None), InfDim(128, None)]),\n",
       " 'transformer.h.2.attn.c_proj.bias': InfShape([InfDim(128, None),]),\n",
       " 'transformer.h.2.ln_2.weight': InfShape([InfDim(128, None),]),\n",
       " 'transformer.h.2.ln_2.bias': InfShape([InfDim(128, None),]),\n",
       " 'transformer.h.2.mlp.c_fc.weight': InfShape([InfDim(512, None), InfDim(128, None)]),\n",
       " 'transformer.h.2.mlp.c_fc.bias': InfShape([InfDim(512, None),]),\n",
       " 'transformer.h.2.mlp.c_proj.weight': InfShape([InfDim(128, None), InfDim(512, None)]),\n",
       " 'transformer.h.2.mlp.c_proj.bias': InfShape([InfDim(128, None),]),\n",
       " 'transformer.h.3.ln_1.weight': InfShape([InfDim(128, None),]),\n",
       " 'transformer.h.3.ln_1.bias': InfShape([InfDim(128, None),]),\n",
       " 'transformer.h.3.attn.c_attn.weight': InfShape([InfDim(384, None), InfDim(128, None)]),\n",
       " 'transformer.h.3.attn.c_attn.bias': InfShape([InfDim(384, None),]),\n",
       " 'transformer.h.3.attn.c_proj.weight': InfShape([InfDim(128, None), InfDim(128, None)]),\n",
       " 'transformer.h.3.attn.c_proj.bias': InfShape([InfDim(128, None),]),\n",
       " 'transformer.h.3.ln_2.weight': InfShape([InfDim(128, None),]),\n",
       " 'transformer.h.3.ln_2.bias': InfShape([InfDim(128, None),]),\n",
       " 'transformer.h.3.mlp.c_fc.weight': InfShape([InfDim(512, None), InfDim(128, None)]),\n",
       " 'transformer.h.3.mlp.c_fc.bias': InfShape([InfDim(512, None),]),\n",
       " 'transformer.h.3.mlp.c_proj.weight': InfShape([InfDim(128, None), InfDim(512, None)]),\n",
       " 'transformer.h.3.mlp.c_proj.bias': InfShape([InfDim(128, None),]),\n",
       " 'transformer.h.4.ln_1.weight': InfShape([InfDim(128, None),]),\n",
       " 'transformer.h.4.ln_1.bias': InfShape([InfDim(128, None),]),\n",
       " 'transformer.h.4.attn.c_attn.weight': InfShape([InfDim(384, None), InfDim(128, None)]),\n",
       " 'transformer.h.4.attn.c_attn.bias': InfShape([InfDim(384, None),]),\n",
       " 'transformer.h.4.attn.c_proj.weight': InfShape([InfDim(128, None), InfDim(128, None)]),\n",
       " 'transformer.h.4.attn.c_proj.bias': InfShape([InfDim(128, None),]),\n",
       " 'transformer.h.4.ln_2.weight': InfShape([InfDim(128, None),]),\n",
       " 'transformer.h.4.ln_2.bias': InfShape([InfDim(128, None),]),\n",
       " 'transformer.h.4.mlp.c_fc.weight': InfShape([InfDim(512, None), InfDim(128, None)]),\n",
       " 'transformer.h.4.mlp.c_fc.bias': InfShape([InfDim(512, None),]),\n",
       " 'transformer.h.4.mlp.c_proj.weight': InfShape([InfDim(128, None), InfDim(512, None)]),\n",
       " 'transformer.h.4.mlp.c_proj.bias': InfShape([InfDim(128, None),]),\n",
       " 'transformer.h.5.ln_1.weight': InfShape([InfDim(128, None),]),\n",
       " 'transformer.h.5.ln_1.bias': InfShape([InfDim(128, None),]),\n",
       " 'transformer.h.5.attn.c_attn.weight': InfShape([InfDim(384, None), InfDim(128, None)]),\n",
       " 'transformer.h.5.attn.c_attn.bias': InfShape([InfDim(384, None),]),\n",
       " 'transformer.h.5.attn.c_proj.weight': InfShape([InfDim(128, None), InfDim(128, None)]),\n",
       " 'transformer.h.5.attn.c_proj.bias': InfShape([InfDim(128, None),]),\n",
       " 'transformer.h.5.ln_2.weight': InfShape([InfDim(128, None),]),\n",
       " 'transformer.h.5.ln_2.bias': InfShape([InfDim(128, None),]),\n",
       " 'transformer.h.5.mlp.c_fc.weight': InfShape([InfDim(512, None), InfDim(128, None)]),\n",
       " 'transformer.h.5.mlp.c_fc.bias': InfShape([InfDim(512, None),]),\n",
       " 'transformer.h.5.mlp.c_proj.weight': InfShape([InfDim(128, None), InfDim(512, None)]),\n",
       " 'transformer.h.5.mlp.c_proj.bias': InfShape([InfDim(128, None),]),\n",
       " 'transformer.h.6.ln_1.weight': InfShape([InfDim(128, None),]),\n",
       " 'transformer.h.6.ln_1.bias': InfShape([InfDim(128, None),]),\n",
       " 'transformer.h.6.attn.c_attn.weight': InfShape([InfDim(384, None), InfDim(128, None)]),\n",
       " 'transformer.h.6.attn.c_attn.bias': InfShape([InfDim(384, None),]),\n",
       " 'transformer.h.6.attn.c_proj.weight': InfShape([InfDim(128, None), InfDim(128, None)]),\n",
       " 'transformer.h.6.attn.c_proj.bias': InfShape([InfDim(128, None),]),\n",
       " 'transformer.h.6.ln_2.weight': InfShape([InfDim(128, None),]),\n",
       " 'transformer.h.6.ln_2.bias': InfShape([InfDim(128, None),]),\n",
       " 'transformer.h.6.mlp.c_fc.weight': InfShape([InfDim(512, None), InfDim(128, None)]),\n",
       " 'transformer.h.6.mlp.c_fc.bias': InfShape([InfDim(512, None),]),\n",
       " 'transformer.h.6.mlp.c_proj.weight': InfShape([InfDim(128, None), InfDim(512, None)]),\n",
       " 'transformer.h.6.mlp.c_proj.bias': InfShape([InfDim(128, None),]),\n",
       " 'transformer.h.7.ln_1.weight': InfShape([InfDim(128, None),]),\n",
       " 'transformer.h.7.ln_1.bias': InfShape([InfDim(128, None),]),\n",
       " 'transformer.h.7.attn.c_attn.weight': InfShape([InfDim(384, None), InfDim(128, None)]),\n",
       " 'transformer.h.7.attn.c_attn.bias': InfShape([InfDim(384, None),]),\n",
       " 'transformer.h.7.attn.c_proj.weight': InfShape([InfDim(128, None), InfDim(128, None)]),\n",
       " 'transformer.h.7.attn.c_proj.bias': InfShape([InfDim(128, None),]),\n",
       " 'transformer.h.7.ln_2.weight': InfShape([InfDim(128, None),]),\n",
       " 'transformer.h.7.ln_2.bias': InfShape([InfDim(128, None),]),\n",
       " 'transformer.h.7.mlp.c_fc.weight': InfShape([InfDim(512, None), InfDim(128, None)]),\n",
       " 'transformer.h.7.mlp.c_fc.bias': InfShape([InfDim(512, None),]),\n",
       " 'transformer.h.7.mlp.c_proj.weight': InfShape([InfDim(128, None), InfDim(512, None)]),\n",
       " 'transformer.h.7.mlp.c_proj.bias': InfShape([InfDim(128, None),]),\n",
       " 'transformer.h.8.ln_1.weight': InfShape([InfDim(128, None),]),\n",
       " 'transformer.h.8.ln_1.bias': InfShape([InfDim(128, None),]),\n",
       " 'transformer.h.8.attn.c_attn.weight': InfShape([InfDim(384, None), InfDim(128, None)]),\n",
       " 'transformer.h.8.attn.c_attn.bias': InfShape([InfDim(384, None),]),\n",
       " 'transformer.h.8.attn.c_proj.weight': InfShape([InfDim(128, None), InfDim(128, None)]),\n",
       " 'transformer.h.8.attn.c_proj.bias': InfShape([InfDim(128, None),]),\n",
       " 'transformer.h.8.ln_2.weight': InfShape([InfDim(128, None),]),\n",
       " 'transformer.h.8.ln_2.bias': InfShape([InfDim(128, None),]),\n",
       " 'transformer.h.8.mlp.c_fc.weight': InfShape([InfDim(512, None), InfDim(128, None)]),\n",
       " 'transformer.h.8.mlp.c_fc.bias': InfShape([InfDim(512, None),]),\n",
       " 'transformer.h.8.mlp.c_proj.weight': InfShape([InfDim(128, None), InfDim(512, None)]),\n",
       " 'transformer.h.8.mlp.c_proj.bias': InfShape([InfDim(128, None),]),\n",
       " 'transformer.h.9.ln_1.weight': InfShape([InfDim(128, None),]),\n",
       " 'transformer.h.9.ln_1.bias': InfShape([InfDim(128, None),]),\n",
       " 'transformer.h.9.attn.c_attn.weight': InfShape([InfDim(384, None), InfDim(128, None)]),\n",
       " 'transformer.h.9.attn.c_attn.bias': InfShape([InfDim(384, None),]),\n",
       " 'transformer.h.9.attn.c_proj.weight': InfShape([InfDim(128, None), InfDim(128, None)]),\n",
       " 'transformer.h.9.attn.c_proj.bias': InfShape([InfDim(128, None),]),\n",
       " 'transformer.h.9.ln_2.weight': InfShape([InfDim(128, None),]),\n",
       " 'transformer.h.9.ln_2.bias': InfShape([InfDim(128, None),]),\n",
       " 'transformer.h.9.mlp.c_fc.weight': InfShape([InfDim(512, None), InfDim(128, None)]),\n",
       " 'transformer.h.9.mlp.c_fc.bias': InfShape([InfDim(512, None),]),\n",
       " 'transformer.h.9.mlp.c_proj.weight': InfShape([InfDim(128, None), InfDim(512, None)]),\n",
       " 'transformer.h.9.mlp.c_proj.bias': InfShape([InfDim(128, None),]),\n",
       " 'transformer.h.10.ln_1.weight': InfShape([InfDim(128, None),]),\n",
       " 'transformer.h.10.ln_1.bias': InfShape([InfDim(128, None),]),\n",
       " 'transformer.h.10.attn.c_attn.weight': InfShape([InfDim(384, None), InfDim(128, None)]),\n",
       " 'transformer.h.10.attn.c_attn.bias': InfShape([InfDim(384, None),]),\n",
       " 'transformer.h.10.attn.c_proj.weight': InfShape([InfDim(128, None), InfDim(128, None)]),\n",
       " 'transformer.h.10.attn.c_proj.bias': InfShape([InfDim(128, None),]),\n",
       " 'transformer.h.10.ln_2.weight': InfShape([InfDim(128, None),]),\n",
       " 'transformer.h.10.ln_2.bias': InfShape([InfDim(128, None),]),\n",
       " 'transformer.h.10.mlp.c_fc.weight': InfShape([InfDim(512, None), InfDim(128, None)]),\n",
       " 'transformer.h.10.mlp.c_fc.bias': InfShape([InfDim(512, None),]),\n",
       " 'transformer.h.10.mlp.c_proj.weight': InfShape([InfDim(128, None), InfDim(512, None)]),\n",
       " 'transformer.h.10.mlp.c_proj.bias': InfShape([InfDim(128, None),]),\n",
       " 'transformer.h.11.ln_1.weight': InfShape([InfDim(128, None),]),\n",
       " 'transformer.h.11.ln_1.bias': InfShape([InfDim(128, None),]),\n",
       " 'transformer.h.11.attn.c_attn.weight': InfShape([InfDim(384, None), InfDim(128, None)]),\n",
       " 'transformer.h.11.attn.c_attn.bias': InfShape([InfDim(384, None),]),\n",
       " 'transformer.h.11.attn.c_proj.weight': InfShape([InfDim(128, None), InfDim(128, None)]),\n",
       " 'transformer.h.11.attn.c_proj.bias': InfShape([InfDim(128, None),]),\n",
       " 'transformer.h.11.ln_2.weight': InfShape([InfDim(128, None),]),\n",
       " 'transformer.h.11.ln_2.bias': InfShape([InfDim(128, None),]),\n",
       " 'transformer.h.11.mlp.c_fc.weight': InfShape([InfDim(512, None), InfDim(128, None)]),\n",
       " 'transformer.h.11.mlp.c_fc.bias': InfShape([InfDim(512, None),]),\n",
       " 'transformer.h.11.mlp.c_proj.weight': InfShape([InfDim(128, None), InfDim(512, None)]),\n",
       " 'transformer.h.11.mlp.c_proj.bias': InfShape([InfDim(128, None),]),\n",
       " 'transformer.ln_f.weight': InfShape([InfDim(128, None),]),\n",
       " 'transformer.ln_f.bias': InfShape([InfDim(128, None),])}"
      ]
     },
     "execution_count": 11,
     "metadata": {},
     "output_type": "execute_result"
    }
   ],
   "source": [
    "base_shapes"
   ]
  },
  {
   "cell_type": "code",
   "execution_count": 14,
   "id": "c93c26a9-1837-4019-8457-c8a666f54477",
   "metadata": {},
   "outputs": [
    {
     "name": "stdout",
     "output_type": "stream",
     "text": [
      "/home/fbartocc\n"
     ]
    }
   ],
   "source": [
    "!pwd"
   ]
  },
  {
   "cell_type": "code",
   "execution_count": 15,
   "id": "48ec3d12-00c5-48af-b1df-0aed52174e39",
   "metadata": {},
   "outputs": [
    {
     "name": "stdout",
     "output_type": "stream",
     "text": [
      " gpt2_12layers_16timesteps_basewidth128.bsh   no_backup   workspace\n",
      " local_storage\t\t\t\t      scratch\n",
      "'mup set scale.ipynb'\t\t\t      shared\n"
     ]
    }
   ],
   "source": [
    "!ls /home/fbartocc"
   ]
  },
  {
   "cell_type": "code",
   "execution_count": null,
   "id": "45c5fff2-98a6-478a-adfb-4a3511fcb65c",
   "metadata": {},
   "outputs": [],
   "source": []
  }
 ],
 "metadata": {
  "kernelspec": {
   "display_name": "Python 3 (ipykernel)",
   "language": "python",
   "name": "python3"
  },
  "language_info": {
   "codemirror_mode": {
    "name": "ipython",
    "version": 3
   },
   "file_extension": ".py",
   "mimetype": "text/x-python",
   "name": "python",
   "nbconvert_exporter": "python",
   "pygments_lexer": "ipython3",
   "version": "3.10.13"
  }
 },
 "nbformat": 4,
 "nbformat_minor": 5
}
