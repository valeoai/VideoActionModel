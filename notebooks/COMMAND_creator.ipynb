{
 "cells": [
  {
   "cell_type": "markdown",
   "id": "b2f137f0-0419-46f0-8843-5eebfc90a828",
   "metadata": {},
   "source": [
    "# BATCH SIZE FINDER"
   ]
  },
  {
   "cell_type": "code",
   "execution_count": 26,
   "id": "66c430d8-f5f0-4543-ad5b-e0878656c1b4",
   "metadata": {},
   "outputs": [],
   "source": [
    "%matplotlib inline\n",
    "import matplotlib.pyplot as plt"
   ]
  },
  {
   "cell_type": "code",
   "execution_count": 27,
   "id": "c2dcf807-1629-47e4-aad9-99c0899d29ac",
   "metadata": {},
   "outputs": [
    {
     "ename": "ModuleNotFoundError",
     "evalue": "No module named 'pandas'",
     "output_type": "error",
     "traceback": [
      "\u001b[0;31m---------------------------------------------------------------------------\u001b[0m",
      "\u001b[0;31mModuleNotFoundError\u001b[0m                       Traceback (most recent call last)",
      "Cell \u001b[0;32mIn[27], line 2\u001b[0m\n\u001b[1;32m      1\u001b[0m \u001b[38;5;28;01mimport\u001b[39;00m \u001b[38;5;21;01mnumpy\u001b[39;00m \u001b[38;5;28;01mas\u001b[39;00m \u001b[38;5;21;01mnp\u001b[39;00m\n\u001b[0;32m----> 2\u001b[0m \u001b[38;5;28;01mimport\u001b[39;00m \u001b[38;5;21;01mpandas\u001b[39;00m \u001b[38;5;28;01mas\u001b[39;00m \u001b[38;5;21;01mpd\u001b[39;00m\n",
      "\u001b[0;31mModuleNotFoundError\u001b[0m: No module named 'pandas'"
     ]
    }
   ],
   "source": [
    "import numpy as np\n",
    "import pandas as pd"
   ]
  },
  {
   "cell_type": "code",
   "execution_count": 27,
   "id": "5f8bda8e-37c5-4027-8695-f92181bb9f2e",
   "metadata": {},
   "outputs": [
    {
     "name": "stdout",
     "output_type": "stream",
     "text": [
      "[8, 16, 24, 32, 40, 48, 56, 64, 72, 80, 88, 96, 104, 112, 120, 128, 136, 144, 152, 160, 168, 176, 192, 200, 208, 216, 224, 240, 256, 264, 272, 280, 288, 304, 312, 320, 336, 352, 360, 384, 392, 400, 408, 416, 432, 440, 448, 456, 480, 504, 512, 520, 528, 544, 560, 576, 600, 608, 616, 624, 640, 672, 680, 704, 720, 728, 760, 768, 784, 816, 832, 840, 864, 896, 912, 952, 960, 1008, 1024, 1064, 1088, 1152, 1216]\n",
      "\n"
     ]
    },
    {
     "data": {
      "text/html": [
       "<div>\n",
       "<style scoped>\n",
       "    .dataframe tbody tr th:only-of-type {\n",
       "        vertical-align: middle;\n",
       "    }\n",
       "\n",
       "    .dataframe tbody tr th {\n",
       "        vertical-align: top;\n",
       "    }\n",
       "\n",
       "    .dataframe thead th {\n",
       "        text-align: right;\n",
       "    }\n",
       "</style>\n",
       "<table border=\"1\" class=\"dataframe\">\n",
       "  <thead>\n",
       "    <tr style=\"text-align: right;\">\n",
       "      <th>total_bs</th>\n",
       "      <th>88</th>\n",
       "      <th>96</th>\n",
       "      <th>104</th>\n",
       "      <th>112</th>\n",
       "      <th>120</th>\n",
       "      <th>128</th>\n",
       "      <th>136</th>\n",
       "      <th>144</th>\n",
       "      <th>152</th>\n",
       "      <th>160</th>\n",
       "      <th>168</th>\n",
       "      <th>176</th>\n",
       "      <th>192</th>\n",
       "      <th>200</th>\n",
       "      <th>208</th>\n",
       "      <th>216</th>\n",
       "      <th>224</th>\n",
       "      <th>240</th>\n",
       "      <th>256</th>\n",
       "    </tr>\n",
       "    <tr>\n",
       "      <th>nb_nodes</th>\n",
       "      <th></th>\n",
       "      <th></th>\n",
       "      <th></th>\n",
       "      <th></th>\n",
       "      <th></th>\n",
       "      <th></th>\n",
       "      <th></th>\n",
       "      <th></th>\n",
       "      <th></th>\n",
       "      <th></th>\n",
       "      <th></th>\n",
       "      <th></th>\n",
       "      <th></th>\n",
       "      <th></th>\n",
       "      <th></th>\n",
       "      <th></th>\n",
       "      <th></th>\n",
       "      <th></th>\n",
       "      <th></th>\n",
       "    </tr>\n",
       "  </thead>\n",
       "  <tbody>\n",
       "    <tr>\n",
       "      <th>1</th>\n",
       "      <td>11.0</td>\n",
       "      <td>12.0</td>\n",
       "      <td>13.0</td>\n",
       "      <td>14.0</td>\n",
       "      <td>15.0</td>\n",
       "      <td>16.0</td>\n",
       "      <td>17.0</td>\n",
       "      <td>18.0</td>\n",
       "      <td>19.0</td>\n",
       "      <td>20.0</td>\n",
       "      <td>21.0</td>\n",
       "      <td>22.0</td>\n",
       "      <td>24.0</td>\n",
       "      <td>25.0</td>\n",
       "      <td>26.0</td>\n",
       "      <td>27.0</td>\n",
       "      <td>28.0</td>\n",
       "      <td>30.0</td>\n",
       "      <td>32.0</td>\n",
       "    </tr>\n",
       "    <tr>\n",
       "      <th>2</th>\n",
       "      <td>NaN</td>\n",
       "      <td>6.0</td>\n",
       "      <td>NaN</td>\n",
       "      <td>7.0</td>\n",
       "      <td>NaN</td>\n",
       "      <td>8.0</td>\n",
       "      <td>NaN</td>\n",
       "      <td>9.0</td>\n",
       "      <td>NaN</td>\n",
       "      <td>10.0</td>\n",
       "      <td>NaN</td>\n",
       "      <td>11.0</td>\n",
       "      <td>12.0</td>\n",
       "      <td>NaN</td>\n",
       "      <td>13.0</td>\n",
       "      <td>NaN</td>\n",
       "      <td>14.0</td>\n",
       "      <td>15.0</td>\n",
       "      <td>16.0</td>\n",
       "    </tr>\n",
       "    <tr>\n",
       "      <th>3</th>\n",
       "      <td>NaN</td>\n",
       "      <td>4.0</td>\n",
       "      <td>NaN</td>\n",
       "      <td>NaN</td>\n",
       "      <td>5.0</td>\n",
       "      <td>NaN</td>\n",
       "      <td>NaN</td>\n",
       "      <td>6.0</td>\n",
       "      <td>NaN</td>\n",
       "      <td>NaN</td>\n",
       "      <td>7.0</td>\n",
       "      <td>NaN</td>\n",
       "      <td>8.0</td>\n",
       "      <td>NaN</td>\n",
       "      <td>NaN</td>\n",
       "      <td>9.0</td>\n",
       "      <td>NaN</td>\n",
       "      <td>10.0</td>\n",
       "      <td>NaN</td>\n",
       "    </tr>\n",
       "    <tr>\n",
       "      <th>4</th>\n",
       "      <td>NaN</td>\n",
       "      <td>3.0</td>\n",
       "      <td>NaN</td>\n",
       "      <td>NaN</td>\n",
       "      <td>NaN</td>\n",
       "      <td>4.0</td>\n",
       "      <td>NaN</td>\n",
       "      <td>NaN</td>\n",
       "      <td>NaN</td>\n",
       "      <td>5.0</td>\n",
       "      <td>NaN</td>\n",
       "      <td>NaN</td>\n",
       "      <td>6.0</td>\n",
       "      <td>NaN</td>\n",
       "      <td>NaN</td>\n",
       "      <td>NaN</td>\n",
       "      <td>7.0</td>\n",
       "      <td>NaN</td>\n",
       "      <td>8.0</td>\n",
       "    </tr>\n",
       "    <tr>\n",
       "      <th>5</th>\n",
       "      <td>NaN</td>\n",
       "      <td>NaN</td>\n",
       "      <td>NaN</td>\n",
       "      <td>NaN</td>\n",
       "      <td>3.0</td>\n",
       "      <td>NaN</td>\n",
       "      <td>NaN</td>\n",
       "      <td>NaN</td>\n",
       "      <td>NaN</td>\n",
       "      <td>4.0</td>\n",
       "      <td>NaN</td>\n",
       "      <td>NaN</td>\n",
       "      <td>NaN</td>\n",
       "      <td>5.0</td>\n",
       "      <td>NaN</td>\n",
       "      <td>NaN</td>\n",
       "      <td>NaN</td>\n",
       "      <td>6.0</td>\n",
       "      <td>NaN</td>\n",
       "    </tr>\n",
       "    <tr>\n",
       "      <th>6</th>\n",
       "      <td>NaN</td>\n",
       "      <td>2.0</td>\n",
       "      <td>NaN</td>\n",
       "      <td>NaN</td>\n",
       "      <td>NaN</td>\n",
       "      <td>NaN</td>\n",
       "      <td>NaN</td>\n",
       "      <td>3.0</td>\n",
       "      <td>NaN</td>\n",
       "      <td>NaN</td>\n",
       "      <td>NaN</td>\n",
       "      <td>NaN</td>\n",
       "      <td>4.0</td>\n",
       "      <td>NaN</td>\n",
       "      <td>NaN</td>\n",
       "      <td>NaN</td>\n",
       "      <td>NaN</td>\n",
       "      <td>5.0</td>\n",
       "      <td>NaN</td>\n",
       "    </tr>\n",
       "    <tr>\n",
       "      <th>7</th>\n",
       "      <td>NaN</td>\n",
       "      <td>NaN</td>\n",
       "      <td>NaN</td>\n",
       "      <td>2.0</td>\n",
       "      <td>NaN</td>\n",
       "      <td>NaN</td>\n",
       "      <td>NaN</td>\n",
       "      <td>NaN</td>\n",
       "      <td>NaN</td>\n",
       "      <td>NaN</td>\n",
       "      <td>3.0</td>\n",
       "      <td>NaN</td>\n",
       "      <td>NaN</td>\n",
       "      <td>NaN</td>\n",
       "      <td>NaN</td>\n",
       "      <td>NaN</td>\n",
       "      <td>4.0</td>\n",
       "      <td>NaN</td>\n",
       "      <td>NaN</td>\n",
       "    </tr>\n",
       "    <tr>\n",
       "      <th>8</th>\n",
       "      <td>NaN</td>\n",
       "      <td>NaN</td>\n",
       "      <td>NaN</td>\n",
       "      <td>NaN</td>\n",
       "      <td>NaN</td>\n",
       "      <td>2.0</td>\n",
       "      <td>NaN</td>\n",
       "      <td>NaN</td>\n",
       "      <td>NaN</td>\n",
       "      <td>NaN</td>\n",
       "      <td>NaN</td>\n",
       "      <td>NaN</td>\n",
       "      <td>3.0</td>\n",
       "      <td>NaN</td>\n",
       "      <td>NaN</td>\n",
       "      <td>NaN</td>\n",
       "      <td>NaN</td>\n",
       "      <td>NaN</td>\n",
       "      <td>4.0</td>\n",
       "    </tr>\n",
       "  </tbody>\n",
       "</table>\n",
       "</div>"
      ],
      "text/plain": [
       "total_bs   88    96    104   112   120   128   136   144   152   160   168  \\\n",
       "nb_nodes                                                                     \n",
       "1         11.0  12.0  13.0  14.0  15.0  16.0  17.0  18.0  19.0  20.0  21.0   \n",
       "2          NaN   6.0   NaN   7.0   NaN   8.0   NaN   9.0   NaN  10.0   NaN   \n",
       "3          NaN   4.0   NaN   NaN   5.0   NaN   NaN   6.0   NaN   NaN   7.0   \n",
       "4          NaN   3.0   NaN   NaN   NaN   4.0   NaN   NaN   NaN   5.0   NaN   \n",
       "5          NaN   NaN   NaN   NaN   3.0   NaN   NaN   NaN   NaN   4.0   NaN   \n",
       "6          NaN   2.0   NaN   NaN   NaN   NaN   NaN   3.0   NaN   NaN   NaN   \n",
       "7          NaN   NaN   NaN   2.0   NaN   NaN   NaN   NaN   NaN   NaN   3.0   \n",
       "8          NaN   NaN   NaN   NaN   NaN   2.0   NaN   NaN   NaN   NaN   NaN   \n",
       "\n",
       "total_bs   176   192   200   208   216   224   240   256  \n",
       "nb_nodes                                                  \n",
       "1         22.0  24.0  25.0  26.0  27.0  28.0  30.0  32.0  \n",
       "2         11.0  12.0   NaN  13.0   NaN  14.0  15.0  16.0  \n",
       "3          NaN   8.0   NaN   NaN   9.0   NaN  10.0   NaN  \n",
       "4          NaN   6.0   NaN   NaN   NaN   7.0   NaN   8.0  \n",
       "5          NaN   NaN   5.0   NaN   NaN   NaN   6.0   NaN  \n",
       "6          NaN   4.0   NaN   NaN   NaN   NaN   5.0   NaN  \n",
       "7          NaN   NaN   NaN   NaN   NaN   4.0   NaN   NaN  \n",
       "8          NaN   3.0   NaN   NaN   NaN   NaN   NaN   4.0  "
      ]
     },
     "execution_count": 27,
     "metadata": {},
     "output_type": "execute_result"
    }
   ],
   "source": [
    "# Number of GPUs based on node count (1 node has 8 GPUs, and we consider up to 8 nodes)\n",
    "nb_gpus = np.array([8 * i for i in range(1, 8 + 1)])\n",
    "\n",
    "# Generate all possible total batch sizes\n",
    "possible_total_bs = []\n",
    "for bs_per_gpu in range(1, 20):\n",
    "    possible_total_bs += list(nb_gpus * bs_per_gpu)\n",
    "\n",
    "# Remove duplicates and sort the batch sizes\n",
    "possible_total_bs = sorted(set(possible_total_bs))\n",
    "print(possible_total_bs)\n",
    "print()\n",
    "\n",
    "# Prepare the matrix: Rows are node counts, Columns are total batch sizes\n",
    "# Each cell will be filled with the batch size per GPU if possible\n",
    "matrix = np.full((len(nb_gpus), len(possible_total_bs)), np.nan)  # Initialize with NaN\n",
    "\n",
    "# Calculate batch size per GPU for each combination of node count and total batch size\n",
    "for i, gpus in enumerate(nb_gpus):\n",
    "    for j, total_bs in enumerate(possible_total_bs):\n",
    "        if total_bs % gpus == 0:\n",
    "            matrix[i, j] = total_bs // gpus  # bs_per_gpu\n",
    "            \n",
    "# Convert matrix to DataFrame\n",
    "df = pd.DataFrame(matrix, index=[f\"{i//8}\" for i in nb_gpus], columns=possible_total_bs)\n",
    "df.index.name = 'nb_nodes'\n",
    "df.columns.name = 'total_bs'\n",
    "\n",
    "# Filter for total batch sizes of 128 or less\n",
    "filtered_df = df[df.columns[(df.columns <= 256) & (df.columns >= 88)]]\n",
    "filtered_df.index.name = 'nb_nodes'\n",
    "filtered_df.columns.name = 'total_bs'\n",
    "\n",
    "# Set the maximum number of rows and columns to display\n",
    "pd.set_option('display.max_columns', None)  # No limit on the number of columns\n",
    "pd.set_option('display.max_rows', None)  # No limit on the number of rows\n",
    "\n",
    "# Assuming 'df' is your DataFrame\n",
    "filtered_df"
   ]
  },
  {
   "cell_type": "code",
   "execution_count": 28,
   "id": "001237b6-b43c-48ee-843c-a1001fd4ea6a",
   "metadata": {},
   "outputs": [],
   "source": [
    "nb_nodes=2\n",
    "width=128\n",
    "total_bs=256\n",
    "\n",
    "bs_per_gpu = total_bs // nb_nodes // 8\n",
    "nb_heads = width // 64\n",
    "\n",
    "cmd = f\"python adastra_slurm_job_submit.py -n muP_GPT2_Nodes{nb_nodes}_BSperGPU{bs_per_gpu}_totalBS{total_bs}_dim{width} --gpus_per_node 8 --nodes {nb_nodes}  -p 'experiment=muP_GPT2_vqgan_imagenet_f16_1024 model.network.embedding_dim={width} model.network.nb_heads={nb_heads} data.dataloader_params.batch_size={bs_per_gpu} paths.output_dir=/lus/work/CT10/cin4181/SHARED/output_data/next_token_predictor_batch_size_finder ++trainer.max_epochs=1 ++trainer.limit_train_batches=10 ++trainer.limit_val_batches=2 data.dataloader_params.num_workers=2'\""
   ]
  },
  {
   "cell_type": "code",
   "execution_count": 29,
   "id": "8a0fda86-519b-4c07-a9c2-b3b9a996744f",
   "metadata": {},
   "outputs": [
    {
     "name": "stdout",
     "output_type": "stream",
     "text": [
      "{'nb_nodes': 2, 'total_bs': 256, 'bs_per_gpu': 16, 'width': 128, 'nb_heads': 2}\n",
      "python adastra_slurm_job_submit.py -n muP_GPT2_Nodes2_BSperGPU16_totalBS256_dim128 --gpus_per_node 8 --nodes 2  -p 'experiment=muP_GPT2_vqgan_imagenet_f16_1024 model.network.embedding_dim=128 model.network.nb_heads=2 data.dataloader_params.batch_size=16 paths.output_dir=/lus/work/CT10/cin4181/SHARED/output_data/next_token_predictor_batch_size_finder ++trainer.max_epochs=1 ++trainer.limit_train_batches=10 ++trainer.limit_val_batches=2 data.dataloader_params.num_workers=2'\n"
     ]
    }
   ],
   "source": [
    "print({\n",
    "    'nb_nodes': nb_nodes,\n",
    "    'total_bs': total_bs,\n",
    "    'bs_per_gpu': bs_per_gpu,\n",
    "    'width': width,\n",
    "    'nb_heads': nb_heads,\n",
    "})\n",
    "print(cmd)"
   ]
  },
  {
   "cell_type": "markdown",
   "id": "c1f176d2-5de4-441d-b98a-f9f63bb2a3be",
   "metadata": {},
   "source": [
    "data.dataloader_params.num_workers=4 doesn't work !"
   ]
  },
  {
   "cell_type": "markdown",
   "id": "2e2394c7-5583-485d-aa70-514d7741c325",
   "metadata": {},
   "source": [
    "## For a given model and total batch size find the minimum nb of nodes that fits in memory\n",
    "\n",
    "> max_epochs=1 limit_train_batches=10 limit_val_batches=2\n",
    "\n",
    "### width = 4096 - 2.4 B"
   ]
  },
  {
   "cell_type": "markdown",
   "id": "7510c7c5-714a-4a95-9055-2590135beb28",
   "metadata": {},
   "source": [
    "{'nb_nodes': 8, 'total_bs': 128, 'bs_per_gpu': 2, 'width': 4096, 'nb_heads': 64} -> 841865\n",
    "\n",
    "python adastra_slurm_job_submit.py -n muP_GPT2_Nodes8_BSperGPU2_totalBS128_dim4096 --gpus_per_node 8 --nodes 8  -p 'experiment=muP_GPT2_vqgan_imagenet_f16_1024 model.network.embedding_dim=4096 model.network.nb_heads=64 data.dataloader_params.batch_size=2 paths.output_dir=/lus/work/CT10/cin4181/SHARED/output_data/next_token_predictor_batch_size_finder ++trainer.max_epochs=1 ++trainer.limit_train_batches=10 ++trainer.limit_val_batches=2 data.dataloader_params.num_workers=2'\n",
    "\n",
    "result -> Epoch 0: 10/10 [02:03<00:00,  0.08it/s\n",
    "\n",
    "on_train_batch_end/active_bytes.all.peak -> 29.42 GB\n",
    "\n",
    "---\n",
    "\n",
    "{'nb_nodes': 8, 'total_bs': 192, 'bs_per_gpu': 3, 'width': 4096, 'nb_heads': 64} -> 841866\n",
    "\n",
    "python adastra_slurm_job_submit.py -n muP_GPT2_Nodes8_BSperGPU3_totalBS192_dim4096 --gpus_per_node 8 --nodes 8  -p 'experiment=muP_GPT2_vqgan_imagenet_f16_1024 model.network.embedding_dim=4096 model.network.nb_heads=64 data.dataloader_params.batch_size=3 paths.output_dir=/lus/work/CT10/cin4181/SHARED/output_data/next_token_predictor_batch_size_finder ++trainer.max_epochs=1 ++trainer.limit_train_batches=10 ++trainer.limit_val_batches=2 data.dataloader_params.num_workers=2\n",
    "\n",
    "result -> Epoch 0: 10/10 [02:46<00:00,  0.06it/s\n",
    "\n",
    "on_train_batch_end/active_bytes.all.peak -> 40.97 GB\n",
    "\n",
    "---\n",
    "\n",
    "{'nb_nodes': 8, 'total_bs': 256, 'bs_per_gpu': 4, 'width': 4096, 'nb_heads': 64} -> 841867\n",
    "\n",
    "python adastra_slurm_job_submit.py -n muP_GPT2_Nodes8_BSperGPU4_totalBS256_dim4096 --gpus_per_node 8 --nodes 8  -p 'experiment=muP_GPT2_vqgan_imagenet_f16_1024 model.network.embedding_dim=4096 model.network.nb_heads=64 data.dataloader_params.batch_size=4 paths.output_dir=/lus/work/CT10/cin4181/SHARED/output_data/next_token_predictor_batch_size_finder ++trainer.max_epochs=1 ++trainer.limit_train_batches=10 ++trainer.limit_val_batches=2 data.dataloader_params.num_workers=2'\n",
    "\n",
    "result -> Epoch 0: 10/10 [03:28<00:00,  0.05it/s\n",
    "\n",
    "on_train_batch_end/active_bytes.all.peak -> 52.52 GB\n"
   ]
  },
  {
   "cell_type": "markdown",
   "id": "18d97fbb-ad77-484e-89a9-4df6aae398d6",
   "metadata": {},
   "source": [
    "### width = 128 - 2.6 M\n",
    "\n",
    "{'nb_nodes': 1, 'total_bs': 256, 'bs_per_gpu': 32, 'width': 128, 'nb_heads': 2} -> 841904\n",
    "\n",
    "python adastra_slurm_job_submit.py -n muP_GPT2_Nodes1_BSperGPU32_totalBS256_dim128 --gpus_per_node 8 --nodes 1  -p 'experiment=muP_GPT2_vqgan_imagenet_f16_1024 model.network.embedding_dim=128 model.network.nb_heads=2 data.dataloader_params.batch_size=32 paths.output_dir=/lus/work/CT10/cin4181/SHARED/output_data/next_token_predictor_batch_size_finder ++trainer.max_epochs=1 ++trainer.limit_train_batches=10 ++trainer.limit_val_batches=2 data.dataloader_params.num_workers=2'\n",
    "\n",
    "result -> Epoch 0: 10/10 [00:53<00:00,  0.19it/s\n",
    "\n",
    "on_train_batch_end/active_bytes.all.peak -> 13.87 GB"
   ]
  },
  {
   "cell_type": "markdown",
   "id": "77fb5148-a32c-48b0-98fc-1f26650ed23c",
   "metadata": {},
   "source": [
    "### width = 256 - 9.9 M\n",
    "\n",
    "{'nb_nodes': 1, 'total_bs': 256, 'bs_per_gpu': 32, 'width': 256, 'nb_heads': 4} -> 841907\n",
    "\r\n",
    "python adastra_slurm_job_submit.py -n muP_GPT2_Nodes1_BSperGPU32_totalBS256_dim256 --gpus_per_node 8 --nodes 1  -p 'experiment=muP_GPT2_vqgan_imagenet_f16_1024 model.network.embedding_dim=256 model.network.nb_heads=4 data.dataloader_params.batch_size=32 paths.output_dir=/lus/work/CT10/cin4181/SHARED/output_data/next_token_predictor_batch_size_finder ++trainer.max_epochs=1 ++trainer.limit_train_batches=10 ++trainer.limit_val_batches=2 data.dataloader_params.num_workers=2\n",
    "\n",
    "result -> 10/10 [01:08<00:00,  0.15it/s\n",
    "\n",
    "on_train_batch_end/active_bytes.all.peak -> 25.42 GB'"
   ]
  },
  {
   "cell_type": "markdown",
   "id": "6a2d289d-6cd4-4cbb-9afd-e1cb80530dc9",
   "metadata": {},
   "source": [
    "### width = 512 - 38.7 M\n",
    "\n",
    "{'nb_nodes': 1, 'total_bs': 256, 'bs_per_gpu': 32, 'width': 512, 'nb_heads': 8} -> 841909\n",
    "\r\n",
    "python adastra_slurm_job_submit.py -n muP_GPT2_Nodes1_BSperGPU32_totalBS256_dim512 --gpus_per_node 8 --nodes 1  -p 'experiment=muP_GPT2_vqgan_imagenet_f16_1024 model.network.embedding_dim=512 model.network.nb_heads=8 data.dataloader_params.batch_size=32 paths.output_dir=/lus/work/CT10/cin4181/SHARED/output_data/next_token_predictor_batch_size_finder ++trainer.max_epochs=1 ++trainer.limit_train_batches=10 ++trainer.limit_val_batches=2 data.dataloader_params.num_workers=2\n",
    "\n",
    "result -> 10/10 [02:18<00:00,  0.07it/s\n",
    "on_train_batch_end/active_bytes.all.peak -> 48.33 GB'"
   ]
  },
  {
   "cell_type": "markdown",
   "id": "abd11ef2-2604-4dfd-8195-3632b3eedfd0",
   "metadata": {},
   "source": [
    "**Conclusion** -> total BS = 256 is able to fit on one node for width=128,256,512 and 8 nodes for 4096"
   ]
  },
  {
   "cell_type": "code",
   "execution_count": null,
   "id": "05fe7bc8-7beb-43fb-8d76-2cff434879d8",
   "metadata": {},
   "outputs": [],
   "source": []
  },
  {
   "cell_type": "code",
   "execution_count": null,
   "id": "35cac780-5a3b-4918-a82c-14a3af2df8d7",
   "metadata": {},
   "outputs": [],
   "source": []
  },
  {
   "cell_type": "markdown",
   "id": "25489b02-b0a1-4579-b452-87e4bc8f1af3",
   "metadata": {},
   "source": [
    "## Total BS = 256 -- width = 128 -- Nodes = 1 -- GPUs = ?\n",
    "\n",
    "width = 128 - 2.6 M only consume  width = 128 - 13.87 GB\n",
    "\n",
    "Let's fix 1 node and see vary # of GPU and this the variation in processing speed"
   ]
  },
  {
   "cell_type": "code",
   "execution_count": 30,
   "id": "f33dccdd-4ebe-4e14-bac7-c7878404b074",
   "metadata": {},
   "outputs": [],
   "source": [
    "nb_gpus=8\n",
    "width=128\n",
    "total_bs=256\n",
    "\n",
    "if total_bs % nb_gpus != 0:\n",
    "    print(\"not a valid # of GPUs!\")\n",
    "\n",
    "bs_per_gpu = total_bs // nb_gpus\n",
    "nb_heads = width // 64\n",
    "\n",
    "cmd = f\"python adastra_slurm_job_submit.py -n muP_GPT2_Nodes{nb_nodes}_BSperGPU{bs_per_gpu}_totalBS{total_bs}_dim{width} --gpus_per_node {nb_gpus} --nodes 1  -p 'experiment=muP_GPT2_vqgan_imagenet_f16_1024 model.network.embedding_dim={width} model.network.nb_heads={nb_heads} data.dataloader_params.batch_size={bs_per_gpu} paths.output_dir=/lus/work/CT10/cin4181/SHARED/output_data/next_token_predictor_batch_size_finder ++trainer.max_epochs=1 data.dataloader_params.num_workers=2'\""
   ]
  },
  {
   "cell_type": "code",
   "execution_count": 31,
   "id": "615cdb75-c12e-4846-bb29-039770cbfd49",
   "metadata": {},
   "outputs": [
    {
     "name": "stdout",
     "output_type": "stream",
     "text": [
      "{'nb_gpus': 8, 'total_bs': 256, 'bs_per_gpu': 32, 'width': 128, 'nb_heads': 2}\n",
      "python adastra_slurm_job_submit.py -n muP_GPT2_Nodes2_BSperGPU32_totalBS256_dim128 --gpus_per_node 8 --nodes 1  -p 'experiment=muP_GPT2_vqgan_imagenet_f16_1024 model.network.embedding_dim=128 model.network.nb_heads=2 data.dataloader_params.batch_size=32 paths.output_dir=/lus/work/CT10/cin4181/SHARED/output_data/next_token_predictor_batch_size_finder ++trainer.max_epochs=1 data.dataloader_params.num_workers=2'\n"
     ]
    }
   ],
   "source": [
    "print({\n",
    "    'nb_gpus': nb_gpus,\n",
    "    'total_bs': total_bs,\n",
    "    'bs_per_gpu': bs_per_gpu,\n",
    "    'width': width,\n",
    "    'nb_heads': nb_heads,\n",
    "})\n",
    "print(cmd)"
   ]
  },
  {
   "cell_type": "markdown",
   "id": "3c6bea2b-bebb-464f-830a-723324fc26ad",
   "metadata": {},
   "source": [
    "{'nb_gpus': 8, 'total_bs': 256, 'bs_per_gpu': 32, 'width': 128, 'nb_heads': 2} -> 842184\n",
    "\r\n",
    "python adastra_slurm_job_submit.py -n muP_GPT2_Nodes1_BSperGPU32_totalBS256_dim128 --gpus_per_node 8 --nodes 1  -p 'experiment=muP_GPT2_vqgan_imagenet_f16_1024 model.network.embedding_dim=128 model.network.nb_heads=2 data.dataloader_params.batch_size=32 paths.output_dir=/lus/work/CT10/cin4181/SHARED/output_data/next_token_predictor_batch_size_finder ++trainer.max_epochs=1 data.dataloader_params.num_workers=2'\n",
    "result --> 105/9857 [55:10<85:24:55,  0.03it/s\n",
    "\n",
    "---\n",
    "\n",
    "{'nb_gpus': 8, 'total_bs': 256, 'bs_per_gpu': 32, 'width': 128, 'nb_heads': 2} -> 842296\n",
    "\n",
    "python adastra_slurm_job_submit.py -n muP_GPT2_Nodes1_BSperGPU32_totalBS256_dim128 --gpus_per_node 8 --nodes 1  -p 'experiment=muP_GPT2_vqgan_imagenet_f16_1024 model.network.embedding_dim=128 model.network.nb_heads=2 data.dataloader_params.batch_size=32 paths.output_dir=/lus/work/CT10/cin4181/SHARED/output_data/next_token_predictor_batch_size_finder ++trainer.max_epochs=1 data.dataloader_params.num_workers=**4**'\n",
    "\n",
    "result --> \n",
    "\n",
    "---\n",
    "\n",
    "{'nb_nodes': **2**, 'total_bs': 256, 'bs_per_gpu': 16, 'width': 128, 'nb_heads': 2} -> 842297\n",
    "\r\n",
    "python adastra_slurm_job_submit.py -n muP_GPT2_Nodes2_BSperGPU16_totalBS256_dim128 --gpus_per_node 8 --nodes 2  -p 'experiment=muP_GPT2_vqgan_imagenet_f16_1024 model.network.embedding_dim=128 model.network.nb_heads=2 data.dataloader_params.batch_size=16 paths.output_dir=/lus/work/CT10/cin4181/SHARED/output_data/next_token_predictor_batch_size_finder ++trainer.max_epochs=  data.dataloader_params.num_workers=2'\n",
    "result --> \n",
    "\n",
    "\n",
    "\n",
    "---\n",
    "\n",
    "\n",
    "{'nb_gpus': 4, 'total_bs': 256, 'bs_per_gpu': 64, 'width': 128, 'nb_heads': 2} ->8421833\n",
    "\r\n",
    "python adastra_slurm_job_submit.py -n muP_GPT2_Nodes1_BSperGPU64_totalBS256_dim128 --gpus_per_node 4 --nodes 1  -p 'experiment=muP_GPT2_vqgan_imagenet_f16_1024 model.network.embedding_dim=128 model.network.nb_heads=2 data.dataloader_params.batch_size=64 paths.output_dir=/lus/work/CT10/cin4181/SHARED/output_data/next_token_predictor_batch_size_finder ++trainer.max_epochs=  data.dataloader_params.num_workers**1**2\n",
    "\n",
    "cpu-per-task=\n",
    "\n",
    "result --> cpu OOM\n",
    "\n",
    "---\n",
    "\n",
    "{'nb_gpus': 2, 'total_bs': 256, 'bs_per_gpu': 64, 'width': 128, 'nb_heads': 2} -> 841986\n",
    "\n",
    "python adastra_slurm_job_submit.py -n muP_GPT2_Nodes1_BSperGPU64_totalBS256_dim128 --gpus_per_node 4 --nodes 1  -p 'experiment=muP_GPT2_vqgan_imagenet_f16_1024 model.network.embedding_dim=128 model.network.nb_heads=2 data.dataloader_params.batch_size=64 paths.output_dir=/lus/work/CT10/cin4181/SHARED/output_data/next_token_predictor_batch_size_finder ++trainer.max_epochs=1 data.dataloader_params.num_workers=**1**'\n",
    "\n",
    "cpu-per-task=44\n",
    "\n",
    "result --> Epoch 0:   2%|▏         | 235/9857 [2:46:35<113:40:43,  0.02it/s''"
   ]
  },
  {
   "cell_type": "markdown",
   "id": "83bca713-2cc8-48ba-82f7-706f41593aef",
   "metadata": {},
   "source": [
    "### Conclu -> keep full node + num_workers=2"
   ]
  },
  {
   "cell_type": "markdown",
   "id": "544d4d9f-16ff-4dc2-92ed-467304aa4038",
   "metadata": {},
   "source": [
    "# Grid search command generator"
   ]
  },
  {
   "cell_type": "code",
   "execution_count": 34,
   "id": "352725b8-045e-449a-b846-50b7965f8e0a",
   "metadata": {},
   "outputs": [],
   "source": [
    "num_random_combinations = 50\n",
    "sampled_lr = 10**np.random.uniform(low=-3, high=-1, size=num_random_combinations)\n",
    "sampled_std_inits = 10**np.random.uniform(low=-2, high=-0.3, size=num_random_combinations)\n",
    "\n",
    "random_search_parameters = np.column_stack((sampled_std_inits, sampled_lr))"
   ]
  },
  {
   "cell_type": "code",
   "execution_count": 35,
   "id": "9b8eb945-27d9-4a72-b809-4ec5067fcc94",
   "metadata": {},
   "outputs": [
    {
     "data": {
      "text/plain": [
       "array([0.00101722, 0.00109254, 0.00112414, 0.001598  , 0.00172037,\n",
       "       0.00183331, 0.00193819, 0.00215789, 0.00247782, 0.00253056,\n",
       "       0.002867  , 0.00287897, 0.00351773, 0.00358468, 0.0036805 ,\n",
       "       0.00481631, 0.00496094, 0.00562509, 0.00592728, 0.00637972,\n",
       "       0.00670215, 0.00720943, 0.00762465, 0.00849733, 0.00899038,\n",
       "       0.01062442, 0.0109397 , 0.01263886, 0.01548034, 0.015871  ,\n",
       "       0.01758214, 0.01759663, 0.02088786, 0.02430179, 0.03316418,\n",
       "       0.03430897, 0.03663183, 0.03891128, 0.0439773 , 0.04685533,\n",
       "       0.04845384, 0.05116419, 0.05775924, 0.06115257, 0.06608657,\n",
       "       0.07234456, 0.07249433, 0.07426086, 0.08927848, 0.09736749])"
      ]
     },
     "execution_count": 35,
     "metadata": {},
     "output_type": "execute_result"
    }
   ],
   "source": [
    "np.sort(sampled_lr)"
   ]
  },
  {
   "cell_type": "code",
   "execution_count": 36,
   "id": "db2aae8d-9584-4feb-b883-c4aa0b4040f6",
   "metadata": {},
   "outputs": [
    {
     "data": {
      "text/plain": [
       "array([0.01046529, 0.01194295, 0.01254774, 0.01321698, 0.01351059,\n",
       "       0.01483554, 0.01584097, 0.01617328, 0.02290982, 0.02751258,\n",
       "       0.03540998, 0.037944  , 0.04394632, 0.04442045, 0.0484209 ,\n",
       "       0.05262914, 0.05519558, 0.05522259, 0.05710418, 0.05890853,\n",
       "       0.07386627, 0.07920697, 0.08329335, 0.08492462, 0.08517228,\n",
       "       0.097009  , 0.10071162, 0.10416863, 0.1045302 , 0.10569565,\n",
       "       0.10976085, 0.12869063, 0.13424518, 0.14076116, 0.14160909,\n",
       "       0.17589479, 0.18855174, 0.19810235, 0.22521736, 0.23198067,\n",
       "       0.25824242, 0.26861784, 0.32089696, 0.3445061 , 0.38309087,\n",
       "       0.42660276, 0.44170362, 0.45006346, 0.45959524, 0.46512693])"
      ]
     },
     "execution_count": 36,
     "metadata": {},
     "output_type": "execute_result"
    }
   ],
   "source": [
    "np.sort(sampled_std_inits)"
   ]
  },
  {
   "cell_type": "code",
   "execution_count": 37,
   "id": "a7b4e1f2-ed2e-46eb-85eb-1e0f8a9644c4",
   "metadata": {},
   "outputs": [
    {
     "data": {
      "image/png": "[encoded data removed]",
      "text/plain": [
       "<Figure size 640x480 with 1 Axes>"
      ]
     },
     "metadata": {},
     "output_type": "display_data"
    }
   ],
   "source": [
    "# Create a histogram plot of the data\n",
    "#plt.hist(data, bins=30, color='blue', alpha=0.7)\n",
    "plt.scatter(random_search_parameters[:,0],random_search_parameters[:,1], color='blue', alpha=0.7)\n",
    "plt.xlabel('Std init')\n",
    "plt.ylabel('LR')\n",
    "plt.grid(True)\n",
    "plt.show()"
   ]
  },
  {
   "cell_type": "code",
   "execution_count": 96,
   "id": "91d9ec25-27de-452b-a438-2aea160d3bda",
   "metadata": {
    "scrolled": true
   },
   "outputs": [
    {
     "name": "stdout",
     "output_type": "stream",
     "text": [
      "128_0-9\n",
      "128_10-19\n",
      "128_20-29\n",
      "128_30-39\n",
      "128_40-49\n",
      "256_0-9\n",
      "256_10-19\n",
      "256_20-29\n",
      "256_30-39\n",
      "256_40-49\n"
     ]
    }
   ],
   "source": [
    "nb_nodes=1\n",
    "nb_gpus=8*nb_nodes\n",
    "total_bs=256\n",
    "\n",
    "s = \"#!/bin/bash \\n\\n\"\n",
    "\n",
    "for width in [128,256]:\n",
    "\n",
    "    nb_heads = width // 64\n",
    "    bs_per_gpu = total_bs // nb_gpus\n",
    "    \n",
    "    for run_idx, (init_std, lr) in enumerate(random_search_parameters):\n",
    "    \n",
    "        cmd = f\"python adastra_slurm_job_submit.py -n GS{width}{run_idx:03d}_muP_GPT2_Nodes{nb_nodes}_BSperGPU{bs_per_gpu}_totalBS{total_bs}_dim{width}_std{init_std:.4f}_lr{lr:.4f} --gpus_per_node 8 --nodes {nb_nodes}  -p 'experiment=muP_GPT2_vqgan_imagenet_f16_1024 model.network.init_std={init_std:.4f} optimizer.lr={lr:.4f} model.network.embedding_dim={width} model.network.nb_heads={nb_heads} data.dataloader_params.batch_size={bs_per_gpu} paths.output_dir=/lus/work/CT10/cin4181/SHARED/output_data/next_token_predictor_grid_search ++trainer.max_epochs=1 data.dataloader_params.num_workers=2'\"\n",
    "\n",
    "        s += cmd\n",
    "        s += '\\n\\nsleep 1\\n\\n'\n",
    "\n",
    "        if (run_idx + 1) % 10 == 0:\n",
    "            section_factor = step = (run_idx + 1) // 10\n",
    "            run_idx_range = f'{(section_factor - 1) * 10}-{section_factor * 10 - 1}'\n",
    "            print(f'{width}_{run_idx_range}')\n",
    "            with open(f'./GS_{width}_{run_idx_range}.sh', 'w') as f:\n",
    "                f.write(s)\n",
    "            s = \"#!/bin/bash \\n\\n\"\n",
    "        "
   ]
  },
  {
   "cell_type": "code",
   "execution_count": null,
   "id": "ccb61a58-bd1a-4afe-806f-266f1483b3d0",
   "metadata": {},
   "outputs": [],
   "source": []
  },
  {
   "cell_type": "code",
   "execution_count": 101,
   "id": "a8c4df4d-2258-46c8-96f7-13a5da587210",
   "metadata": {
    "scrolled": true
   },
   "outputs": [
    {
     "name": "stdout",
     "output_type": "stream",
     "text": [
      "#!/bin/bash \n",
      "\n",
      "python adastra_slurm_job_submit.py -n GS128000_muP_GPT2_Nodes1_BSperGPU32_totalBS256_dim128_std0.0229_lr0.0974 --gpus_per_node 8 --nodes 1  -p 'experiment=muP_GPT2_vqgan_imagenet_f16_1024 model.network.init_std=0.0229 optimizer.lr=0.0974 model.network.embedding_dim=128 model.network.nb_heads=2 data.dataloader_params.batch_size=32 paths.output_dir=/lus/work/CT10/cin4181/SHARED/output_data/next_token_predictor_grid_search ++trainer.max_epochs=1 data.dataloader_params.num_workers=2'\n",
      "\n",
      "sleep 1\n",
      "\n",
      "python adastra_slurm_job_submit.py -n GS128001_muP_GPT2_Nodes1_BSperGPU32_totalBS256_dim128_std0.1098_lr0.0209 --gpus_per_node 8 --nodes 1  -p 'experiment=muP_GPT2_vqgan_imagenet_f16_1024 model.network.init_std=0.1098 optimizer.lr=0.0209 model.network.embedding_dim=128 model.network.nb_heads=2 data.dataloader_params.batch_size=32 paths.output_dir=/lus/work/CT10/cin4181/SHARED/output_data/next_token_predictor_grid_search ++trainer.max_epochs=1 data.dataloader_params.num_workers=2'\n",
      "\n",
      "sleep 1\n",
      "\n",
      "python adastra_slurm_job_submit.py -n GS128002_muP_GPT2_Nodes1_BSperGPU32_totalBS256_dim128_std0.0526_lr0.0064 --gpus_per_node 8 --nodes 1  -p 'experiment=muP_GPT2_vqgan_imagenet_f16_1024 model.network.init_std=0.0526 optimizer.lr=0.0064 model.network.embedding_dim=128 model.network.nb_heads=2 data.dataloader_params.batch_size=32 paths.output_dir=/lus/work/CT10/cin4181/SHARED/output_data/next_token_predictor_grid_search ++trainer.max_epochs=1 data.dataloader_params.num_workers=2'\n",
      "\n",
      "sleep 1\n",
      "\n",
      "python adastra_slurm_job_submit.py -n GS128003_muP_GPT2_Nodes1_BSperGPU32_totalBS256_dim128_std0.0852_lr0.0512 --gpus_per_node 8 --nodes 1  -p 'experiment=muP_GPT2_vqgan_imagenet_f16_1024 model.network.init_std=0.0852 optimizer.lr=0.0512 model.network.embedding_dim=128 model.network.nb_heads=2 data.dataloader_params.batch_size=32 paths.output_dir=/lus/work/CT10/cin4181/SHARED/output_data/next_token_predictor_grid_search ++trainer.max_epochs=1 data.dataloader_params.num_workers=2'\n",
      "\n",
      "sleep 1\n",
      "\n",
      "python adastra_slurm_job_submit.py -n GS128004_muP_GPT2_Nodes1_BSperGPU32_totalBS256_dim128_std0.1342_lr0.0725 --gpus_per_node 8 --nodes 1  -p 'experiment=muP_GPT2_vqgan_imagenet_f16_1024 model.network.init_std=0.1342 optimizer.lr=0.0725 model.network.embedding_dim=128 model.network.nb_heads=2 data.dataloader_params.batch_size=32 paths.output_dir=/lus/work/CT10/cin4181/SHARED/output_data/next_token_predictor_grid_search ++trainer.max_epochs=1 data.dataloader_params.num_workers=2'\n",
      "\n",
      "sleep 1\n",
      "\n",
      "python adastra_slurm_job_submit.py -n GS128005_muP_GPT2_Nodes1_BSperGPU32_totalBS256_dim128_std0.1886_lr0.0085 --gpus_per_node 8 --nodes 1  -p 'experiment=muP_GPT2_vqgan_imagenet_f16_1024 model.network.init_std=0.1886 optimizer.lr=0.0085 model.network.embedding_dim=128 model.network.nb_heads=2 data.dataloader_params.batch_size=32 paths.output_dir=/lus/work/CT10/cin4181/SHARED/output_data/next_token_predictor_grid_search ++trainer.max_epochs=1 data.dataloader_params.num_workers=2'\n",
      "\n",
      "sleep 1\n",
      "\n",
      "python adastra_slurm_job_submit.py -n GS128006_muP_GPT2_Nodes1_BSperGPU32_totalBS256_dim128_std0.0849_lr0.0025 --gpus_per_node 8 --nodes 1  -p 'experiment=muP_GPT2_vqgan_imagenet_f16_1024 model.network.init_std=0.0849 optimizer.lr=0.0025 model.network.embedding_dim=128 model.network.nb_heads=2 data.dataloader_params.batch_size=32 paths.output_dir=/lus/work/CT10/cin4181/SHARED/output_data/next_token_predictor_grid_search ++trainer.max_epochs=1 data.dataloader_params.num_workers=2'\n",
      "\n",
      "sleep 1\n",
      "\n",
      "python adastra_slurm_job_submit.py -n GS128007_muP_GPT2_Nodes1_BSperGPU32_totalBS256_dim128_std0.0970_lr0.0019 --gpus_per_node 8 --nodes 1  -p 'experiment=muP_GPT2_vqgan_imagenet_f16_1024 model.network.init_std=0.0970 optimizer.lr=0.0019 model.network.embedding_dim=128 model.network.nb_heads=2 data.dataloader_params.batch_size=32 paths.output_dir=/lus/work/CT10/cin4181/SHARED/output_data/next_token_predictor_grid_search ++trainer.max_epochs=1 data.dataloader_params.num_workers=2'\n",
      "\n",
      "sleep 1\n",
      "\n",
      "python adastra_slurm_job_submit.py -n GS128008_muP_GPT2_Nodes1_BSperGPU32_totalBS256_dim128_std0.0158_lr0.0389 --gpus_per_node 8 --nodes 1  -p 'experiment=muP_GPT2_vqgan_imagenet_f16_1024 model.network.init_std=0.0158 optimizer.lr=0.0389 model.network.embedding_dim=128 model.network.nb_heads=2 data.dataloader_params.batch_size=32 paths.output_dir=/lus/work/CT10/cin4181/SHARED/output_data/next_token_predictor_grid_search ++trainer.max_epochs=1 data.dataloader_params.num_workers=2'\n",
      "\n",
      "sleep 1\n",
      "\n",
      "python adastra_slurm_job_submit.py -n GS128009_muP_GPT2_Nodes1_BSperGPU32_totalBS256_dim128_std0.2686_lr0.0056 --gpus_per_node 8 --nodes 1  -p 'experiment=muP_GPT2_vqgan_imagenet_f16_1024 model.network.init_std=0.2686 optimizer.lr=0.0056 model.network.embedding_dim=128 model.network.nb_heads=2 data.dataloader_params.batch_size=32 paths.output_dir=/lus/work/CT10/cin4181/SHARED/output_data/next_token_predictor_grid_search ++trainer.max_epochs=1 data.dataloader_params.num_workers=2'\n",
      "\n",
      "sleep 1\n",
      "\n"
     ]
    }
   ],
   "source": [
    "!cat ./GS_128_0-9.sh"
   ]
  },
  {
   "cell_type": "markdown",
   "id": "fdfe4651-a961-4ab6-94ba-a346defd2d62",
   "metadata": {},
   "source": [
    "# Generation of one command"
   ]
  },
  {
   "cell_type": "code",
   "execution_count": 38,
   "id": "bb73b996-7af5-4c33-986a-9e4baef575b9",
   "metadata": {},
   "outputs": [
    {
     "name": "stdout",
     "output_type": "stream",
     "text": [
      "python adastra_slurm_job_submit.py -n muP_GPT2_Nodes4_BSperGPU8_totalBS256_dim512_std0.1045_lr0.0109 --gpus_per_node 8 --nodes 4  -p 'experiment=muP_GPT2_vqgan_imagenet_f16_1024 model.network.init_std=0.1045 optimizer.lr=0.0109 model.network.embedding_dim=512 model.network.nb_heads=8 data.dataloader_params.batch_size=8 paths.output_dir=/lus/work/CT10/cin4181/SHARED/output_data/next_token_predictor_grid_search_iter1 ++trainer.max_epochs=1 data.dataloader_params.num_workers=2'\n"
     ]
    }
   ],
   "source": [
    "nb_nodes=4\n",
    "nb_gpus=8*nb_nodes\n",
    "total_bs=256\n",
    "\n",
    "s = \"#!/bin/bash \\n\\n\"\n",
    "\n",
    "width = 512\n",
    "\n",
    "nb_heads = width // 64\n",
    "bs_per_gpu = total_bs // nb_gpus\n",
    "\n",
    "init_std=0.1045\n",
    "lr = 0.0109\n",
    "\n",
    "output_dir = '/lus/work/CT10/cin4181/SHARED/output_data/next_token_predictor_grid_search_iter1'\n",
    "\n",
    "cmd = f\"python adastra_slurm_job_submit.py -n muP_GPT2_Nodes{nb_nodes}_BSperGPU{bs_per_gpu}_totalBS{total_bs}_dim{width}_std{init_std:.4f}_lr{lr:.4f} --gpus_per_node 8 --nodes {nb_nodes}  -p 'experiment=muP_GPT2_vqgan_imagenet_f16_1024 model.network.init_std={init_std:.4f} optimizer.lr={lr:.4f} model.network.embedding_dim={width} model.network.nb_heads={nb_heads} data.dataloader_params.batch_size={bs_per_gpu} paths.output_dir={output_dir} ++trainer.max_epochs=1 data.dataloader_params.num_workers=2'\"\n",
    "print(cmd)"
   ]
  },
  {
   "cell_type": "markdown",
   "id": "5c1d4c47-8737-48e3-91b2-8efaf39abea4",
   "metadata": {},
   "source": [
    "---\n",
    "\n",
    "width 512 | 4 nodes -> 845070\n",
    "\n",
    "```\n",
    "python adastra_slurm_job_submit.py -n muP_GPT2_Nodes4_BSperGPU8_totalBS256_dim512_std0.1045_lr0.0109 --gpus_per_node 8 --nodes 4  -p 'experiment=muP_GPT2_vqgan_imagenet_f16_1024 model.network.init_std=0.1045 optimizer.lr=0.0109 model.network.embedding_dim=512 model.network.nb_heads=8 data.dataloader_params.batch_size=8 paths.output_dir=/lus/work/CT10/cin4181/SHARED/output_data/next_token_predictor_grid_search_iter1 ++trainer.max_epochs=1 data.dataloader_params.num_workers=2'\n",
    "```\n",
    "\n",
    "width 2048 | 8 nodes -> 845071\n",
    "\n",
    "```\n",
    "python adastra_slurm_job_submit.py -n muP_GPT2_Nodes8_BSperGPU4_totalBS256_dim2048_std0.1045_lr0.0109 --gpus_per_node 8 --nodes 8  -p 'experiment=muP_GPT2_vqgan_imagenet_f16_1024 model.network.init_std=0.1045 optimizer.lr=0.0109 model.network.embedding_dim=2048 model.network.nb_heads=32 data.dataloader_params.batch_size=4 paths.output_dir=/lus/work/CT10/cin4181/SHARED/output_data/next_token_predictor_grid_search_iter1 ++trainer.max_epochs=1 data.dataloader_params.num_workers=2'\n",
    "```\n",
    "\n",
    "width 4096 | 8 nodes -> 845072\n",
    "\n",
    "```\n",
    "python adastra_slurm_job_submit.py -n muP_GPT2_Nodes8_BSperGPU4_totalBS256_dim4096_std0.1045_lr0.0109 --gpus_per_node 8 --nodes 8  -p 'experiment=muP_GPT2_vqgan_imagenet_f16_1024 model.network.init_std=0.1045 optimizer.lr=0.0109 model.network.embedding_dim=4096 model.network.nb_heads=64 data.dataloader_params.batch_size=4 paths.output_dir=/lus/work/CT10/cin4181/SHARED/output_data/next_token_predictor_grid_search_iter1 ++trainer.max_epochs=1 data.dataloader_params.num_workers=2'\n",
    "```"
   ]
  },
  {
   "cell_type": "raw",
   "id": "09d46ee1-a8b3-4c25-9fa6-3598766ab5d7",
   "metadata": {},
   "source": []
  },
  {
   "cell_type": "markdown",
   "id": "c92c8c82-7c2e-42d1-9232-2a20d0c71d51",
   "metadata": {},
   "source": [
    "# Computing WSD params given total number of steps"
   ]
  },
  {
   "cell_type": "code",
   "execution_count": null,
   "id": "411c5fb5-716d-4f15-9e4b-7fb91a1fce4e",
   "metadata": {},
   "outputs": [],
   "source": [
    "scancel 844323\n",
    "scancel 844336\n",
    "scancel 844332\n",
    "scancel 844354\n",
    "scancel 844355\n",
    "scancel 844359\n",
    "scancel 844328\n",
    "scancel 844341\n",
    "scancel 844345\n",
    "scancel 844366\n",
    "scancel 844367\n",
    "scancel 844371\n",
    "scancel 844379\n",
    "scancel 844389"
   ]
  },
  {
   "cell_type": "code",
   "execution_count": 19,
   "id": "5dd636a2-bcb2-4657-b6c8-e63a2351cda6",
   "metadata": {},
   "outputs": [],
   "source": [
    "len_dataset = 2523392\n",
    "total_bs = 256"
   ]
  },
  {
   "cell_type": "code",
   "execution_count": 20,
   "id": "0ebd4b40-6b75-44b8-85b1-70de58c44643",
   "metadata": {},
   "outputs": [],
   "source": [
    "total_nb_steps = len_dataset // total_bs"
   ]
  },
  {
   "cell_type": "code",
   "execution_count": 21,
   "id": "f624d4b6-f2f9-42e6-bcc7-2be1380f6629",
   "metadata": {},
   "outputs": [
    {
     "name": "stdout",
     "output_type": "stream",
     "text": [
      "25%:  2464\n",
      "50%:  4928\n",
      "75%:  7392\n",
      "100%:  9857\n"
     ]
    }
   ],
   "source": [
    "print('25%: ', int(nb_steps * 0.25))\n",
    "print('50%: ',int(nb_steps * 0.5))\n",
    "print('75%: ',int(nb_steps * 0.75))\n",
    "print('100%: ',nb_steps)"
   ]
  },
  {
   "cell_type": "code",
   "execution_count": 22,
   "id": "f651a7f2-1a12-472d-bd41-cd213af87fbb",
   "metadata": {},
   "outputs": [],
   "source": [
    "end_iter = total_nb_steps\n",
    "warmup_iter = int(end_iter * 0.01) # 1%\n",
    "drop_iter = int(end_iter * 0.1) # 10%"
   ]
  },
  {
   "cell_type": "code",
   "execution_count": 23,
   "id": "87547e5a-b1fc-4ab1-8778-1cc28cae4142",
   "metadata": {},
   "outputs": [
    {
     "name": "stdout",
     "output_type": "stream",
     "text": [
      "{'warmup_iter': 35, 'end_iter': 9857, 'drop_iter': 3}\n"
     ]
    }
   ],
   "source": [
    "print({\n",
    "    'warmup_iter': 8960 // 256, # total_batch_size * 35 = 256 * 35\n",
    "    'end_iter': nb_steps,\n",
    "    'drop_iter': drop_iter // 256\n",
    "})"
   ]
  },
  {
   "cell_type": "code",
   "execution_count": null,
   "id": "8c07afb9-83a7-4a57-b34e-743d0c479002",
   "metadata": {},
   "outputs": [],
   "source": []
  },
  {
   "cell_type": "markdown",
   "id": "a3a0e2f5-9784-47d3-a262-3c25ab9b7c2b",
   "metadata": {},
   "source": [
    "# Testing checkpointing at specific steps "
   ]
  },
  {
   "cell_type": "code",
   "execution_count": 3,
   "id": "13fd83f7-c56c-4f50-8f69-c7cbc30604a8",
   "metadata": {},
   "outputs": [],
   "source": [
    "import os\n",
    "import torch\n",
    "from torch.utils.data import DataLoader, TensorDataset\n",
    "import lightning.pytorch as pl\n",
    "from lightning.pytorch.callbacks import ModelCheckpoint"
   ]
  },
  {
   "cell_type": "code",
   "execution_count": 4,
   "id": "102e8e72-abf5-4082-a3a0-26ffbb2ae875",
   "metadata": {},
   "outputs": [],
   "source": [
    "# Ensure the checkpoint directory exists\n",
    "os.makedirs('checkpoints', exist_ok=True)"
   ]
  },
  {
   "cell_type": "code",
   "execution_count": 11,
   "id": "6ffa7fc7-ed46-4479-8288-a18dc510c945",
   "metadata": {},
   "outputs": [],
   "source": [
    "# Define a simple model\n",
    "class SimpleModel(pl.LightningModule):\n",
    "    def __init__(self):\n",
    "        super().__init__()\n",
    "        self.layer = torch.nn.Linear(10, 1)\n",
    "\n",
    "    def forward(self, x):\n",
    "        return self.layer(x)\n",
    "\n",
    "    def training_step(self, batch, batch_idx):\n",
    "        x, y = batch\n",
    "        y_hat = self(x)\n",
    "        loss = torch.nn.functional.mse_loss(y_hat, y)\n",
    "        self.log('train_loss', loss)\n",
    "        return loss\n",
    "\n",
    "    def configure_optimizers(self):\n",
    "        return torch.optim.Adam(self.parameters(), lr=0.02)\n",
    "\n",
    "    def train_dataloader(self):\n",
    "        # Creating a dummy dataset\n",
    "        x = torch.randn(1000, 10)\n",
    "        y = torch.randn(1000, 1)\n",
    "        dataset = TensorDataset(x, y)\n",
    "        return DataLoader(dataset, batch_size=10)\n",
    "\n"
   ]
  },
  {
   "cell_type": "code",
   "execution_count": 12,
   "id": "3ad74c2e-0e51-4088-b9f3-3271d78c5c5c",
   "metadata": {},
   "outputs": [
    {
     "name": "stderr",
     "output_type": "stream",
     "text": [
      "GPU available: False, used: False\n",
      "TPU available: False, using: 0 TPU cores\n",
      "IPU available: False, using: 0 IPUs\n",
      "HPU available: False, using: 0 HPUs\n",
      "\n",
      "  | Name  | Type   | Params\n",
      "---------------------------------\n",
      "0 | layer | Linear | 11    \n",
      "---------------------------------\n",
      "11        Trainable params\n",
      "0         Non-trainable params\n",
      "11        Total params\n",
      "0.000     Total estimated model params size (MB)\n"
     ]
    },
    {
     "data": {
      "application/vnd.jupyter.widget-view+json": {
       "model_id": "683573b544be403191bdb6d07de33d49",
       "version_major": 2,
       "version_minor": 0
      },
      "text/plain": [
       "Training: |                                                                                       | 0/? [00:00…"
      ]
     },
     "metadata": {},
     "output_type": "display_data"
    },
    {
     "name": "stderr",
     "output_type": "stream",
     "text": [
      "`Trainer.fit` stopped: `max_epochs=2` reached.\n"
     ]
    }
   ],
   "source": [
    "# Set up the checkpoint callback\n",
    "checkpoint_callback = ModelCheckpoint(\n",
    "    dirpath='./checkpoints',\n",
    "    filename='checkpoint-{epoch:02d}-{step:04d}',\n",
    "    every_n_train_steps=25,\n",
    "    save_top_k=-1\n",
    ")\n",
    "\n",
    "# Set up the trainer\n",
    "trainer = pl.Trainer(\n",
    "    callbacks=[checkpoint_callback],\n",
    "    max_epochs=2,\n",
    "    limit_train_batches=100,  # Limit the number of batches for quick testing\n",
    ")\n",
    "\n",
    "# Instantiate the model\n",
    "model = SimpleModel()\n",
    "\n",
    "# Train the model\n",
    "trainer.fit(model)"
   ]
  },
  {
   "cell_type": "code",
   "execution_count": 13,
   "id": "23f1fa4a-274d-465f-8b0e-01f5fd74ea92",
   "metadata": {},
   "outputs": [
    {
     "name": "stdout",
     "output_type": "stream",
     "text": [
      "'checkpoint-epoch=00-step=0025.ckpt'  'checkpoint-epoch=01-step=0125.ckpt'\n",
      "'checkpoint-epoch=00-step=0050.ckpt'  'checkpoint-epoch=01-step=0150.ckpt'\n",
      "'checkpoint-epoch=00-step=0075.ckpt'  'checkpoint-epoch=01-step=0175.ckpt'\n",
      "'checkpoint-epoch=00-step=0100.ckpt'  'checkpoint-epoch=01-step=0200.ckpt'\n"
     ]
    }
   ],
   "source": [
    "!ls checkpoints"
   ]
  },
  {
   "cell_type": "code",
   "execution_count": 10,
   "id": "ce3fe86a-2b6d-44fc-ad92-795d2ad53926",
   "metadata": {},
   "outputs": [],
   "source": [
    "rm checkpoints/*"
   ]
  },
  {
   "cell_type": "code",
   "execution_count": null,
   "id": "b7d5c6ae-2414-4606-b8bd-cf35532279a0",
   "metadata": {},
   "outputs": [],
   "source": []
  },
  {
   "cell_type": "markdown",
   "id": "c79cad59-ae44-47c9-a093-b370d3e45660",
   "metadata": {},
   "source": [
    "# Testing WSD learning scheduler"
   ]
  },
  {
   "cell_type": "code",
   "execution_count": 28,
   "id": "70f5e3a5-5b4a-43c4-bb42-0b70ffd33afd",
   "metadata": {},
   "outputs": [],
   "source": [
    "from typing import Dict, Any\n",
    "\n",
    "class WarmupStableDrop:\n",
    "    def __init__(\n",
    "        self, start_lr, warmup_iter, end_iter, drop_iter=0, num_iter=-1,\n",
    "    ) -> None:\n",
    "        self.warmup_iter = warmup_iter\n",
    "        self.end_iter = end_iter\n",
    "        self.drop_iter = drop_iter\n",
    "        self.num_iter = num_iter\n",
    "        self._current_lr = None\n",
    "        self._start_lr = start_lr\n",
    "        self.start_lr = []\n",
    "        self.resume_step = num_iter\n",
    "        \n",
    "        self.step(self.num_iter)\n",
    "        \n",
    "    def state_dict(self) -> Dict[str, Any]:\n",
    "        return {key: value for key, value in self.__dict__.items() if key != 'optimizer'}\n",
    "\n",
    "    def load_state_dict(self, state_dict: Dict[str, Any]) -> None:\n",
    "        self.__dict__.update(state_dict)\n",
    "\n",
    "    def get_lr_warmup(self, num_iter, base_lr, warmup_iter) -> float:\n",
    "        return base_lr * num_iter / warmup_iter\n",
    "\n",
    "    def get_lr_stable(self, num_iter, base_lr):\n",
    "        return base_lr\n",
    "\n",
    "    def get_lr_drop(self, num_iter, base_lr):\n",
    "        progress = (self.end_iter - num_iter) / self.drop_iter\n",
    "        return base_lr * (0.1 + max(0.9 * (self.end_iter - num_iter) / self.drop_iter, 0))\n",
    "\n",
    "    def get_lr(self, base_lr):\n",
    "        if self.num_iter < self.warmup_iter:\n",
    "            return self.get_lr_warmup(self.num_iter, base_lr, self.warmup_iter)\n",
    "\n",
    "        if self.num_iter > self.end_iter - self.drop_iter:\n",
    "            return self.get_lr_drop(self.num_iter, base_lr)\n",
    "\n",
    "        return self.get_lr_stable(self.num_iter, base_lr)\n",
    "\n",
    "    def step(self, num_iter=None) -> None:\n",
    "        if num_iter is None:\n",
    "            num_iter = self.num_iter + 1\n",
    "        self.num_iter = num_iter\n",
    "\n",
    "        self._current_lr = self.get_lr(self._start_lr)\n"
   ]
  },
  {
   "cell_type": "code",
   "execution_count": 29,
   "id": "59f9258d-9ff7-4b74-a311-5f9dc15f7cdd",
   "metadata": {},
   "outputs": [
    {
     "data": {
      "text/plain": [
       "[<matplotlib.lines.Line2D at 0x7fc9fd88e410>]"
      ]
     },
     "execution_count": 29,
     "metadata": {},
     "output_type": "execute_result"
    },
    {
     "data": {
      "image/png": "[encoded data removed]",
      "text/plain": [
       "<Figure size 640x480 with 1 Axes>"
      ]
     },
     "metadata": {},
     "output_type": "display_data"
    }
   ],
   "source": [
    "scheduler = WarmupStableDrop(5e-3, 1, 100, drop_iter=10, num_iter=0)\n",
    "lrs = []\n",
    "for i in range(200):\n",
    "    lrs.append(scheduler._current_lr)\n",
    "    scheduler.step()\n",
    "plt.plot(lrs)"
   ]
  },
  {
   "cell_type": "code",
   "execution_count": 34,
   "id": "930bdf18-4e1c-46b6-a02a-c37cf2c48f60",
   "metadata": {},
   "outputs": [
    {
     "data": {
      "text/plain": [
       "[<matplotlib.lines.Line2D at 0x7fc9fd6a39a0>]"
      ]
     },
     "execution_count": 34,
     "metadata": {},
     "output_type": "execute_result"
    },
    {
     "data": {
      "image/png": "[encoded data removed]",
      "text/plain": [
       "<Figure size 640x480 with 1 Axes>"
      ]
     },
     "metadata": {},
     "output_type": "display_data"
    }
   ],
   "source": [
    "scheduler = WarmupStableDrop(5e-3, 0, 10, drop_iter=10, num_iter=0)\n",
    "lrs = []\n",
    "for i in range(100):\n",
    "    lrs.append(scheduler._current_lr)\n",
    "    scheduler.step()\n",
    "plt.plot(lrs)"
   ]
  },
  {
   "cell_type": "code",
   "execution_count": null,
   "id": "d9c14a49-d900-429f-a557-85c3633d39d4",
   "metadata": {},
   "outputs": [],
   "source": []
  }
 ],
 "metadata": {
  "kernelspec": {
   "display_name": "Python 3 (ipykernel)",
   "language": "python",
   "name": "python3"
  },
  "language_info": {
   "codemirror_mode": {
    "name": "ipython",
    "version": 3
   },
   "file_extension": ".py",
   "mimetype": "text/x-python",
   "name": "python",
   "nbconvert_exporter": "python",
   "pygments_lexer": "ipython3",
   "version": "3.10.13"
  }
 },
 "nbformat": 4,
 "nbformat_minor": 5
}
